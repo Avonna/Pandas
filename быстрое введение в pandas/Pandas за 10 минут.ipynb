{
  "cells": [
    {
      "cell_type": "markdown",
      "metadata": {
        "id": "view-in-github",
        "colab_type": "text"
      },
      "source": [
        "<a href=\"https://colab.research.google.com/github/Avonna/Pandas/blob/master/%D0%B1%D1%8B%D1%81%D1%82%D1%80%D0%BE%D0%B5%20%D0%B2%D0%B2%D0%B5%D0%B4%D0%B5%D0%BD%D0%B8%D0%B5%20%D0%B2%20pandas/Pandas%20%D0%B7%D0%B0%2010%20%D0%BC%D0%B8%D0%BD%D1%83%D1%82.ipynb\" target=\"_parent\"><img src=\"https://colab.research.google.com/assets/colab-badge.svg\" alt=\"Open In Colab\"/></a>"
      ]
    },
    {
      "cell_type": "markdown",
      "metadata": {
        "id": "N5JYGgrJ1UDW"
      },
      "source": [
        "<a href=\"https://colab.research.google.com/github/dm-fedorov/pandas_basic/blob/master/быстрое%20введение%20в%20pandas/Pandas%20за%2010%20минут.ipynb\"><img align=\"left\" src=\"https://colab.research.google.com/assets/colab-badge.svg\" alt=\"Open in Colab\" title=\"Open and Execute in Google Colaboratory\" target=\"_blank\"></a>"
      ]
    },
    {
      "cell_type": "markdown",
      "metadata": {
        "id": "ARdKvulw1UDe"
      },
      "source": [
        "# Pandas за 10 минут\n",
        "\n",
        "<a href=\"https://t.me/init_python\"><img src=\"https://dfedorov.spb.ru/pandas/logo-telegram.png\" width=\"35\" height=\"35\" alt=\"telegram\" align=\"left\"></a>"
      ]
    },
    {
      "cell_type": "markdown",
      "metadata": {
        "id": "1_UytBCB1UDg"
      },
      "source": [
        "Это короткое введение в мир pandas, ориентированное в основном на новых пользователей. Более сложные рецепты можно найти в [Поваренной книге](https://pandas.pydata.org/pandas-docs/stable/user_guide/cookbook.html#cookbook)."
      ]
    },
    {
      "cell_type": "markdown",
      "metadata": {
        "id": "8RccWEr01UDh"
      },
      "source": [
        "Обычно импорт выглядит так и к нему все привыкли:"
      ]
    },
    {
      "cell_type": "code",
      "execution_count": null,
      "metadata": {
        "id": "fINbv_qg1UDh"
      },
      "outputs": [],
      "source": [
        "import numpy as np\n",
        "import pandas as pd"
      ]
    },
    {
      "cell_type": "markdown",
      "metadata": {
        "id": "oygYLEvJ1UDj"
      },
      "source": [
        "## Создание объекта"
      ]
    },
    {
      "cell_type": "markdown",
      "metadata": {
        "id": "XJxqQ0ee1UDk"
      },
      "source": [
        "Подробнее см. [Введение в структуры данных pandas](https://pandas.pydata.org/pandas-docs/stable/user_guide/dsintro.html#dsintro)"
      ]
    },
    {
      "cell_type": "markdown",
      "metadata": {
        "id": "wHrSNX9H1UDl"
      },
      "source": [
        "Создание `Серии` ([`Series`](https://pandas.pydata.org/pandas-docs/stable/reference/api/pandas.Series.html#pandas.Series)) путем передачи питоновского списка позволет pandas создать целочисленный индекс по умолчанию:"
      ]
    },
    {
      "cell_type": "code",
      "execution_count": null,
      "metadata": {
        "id": "9vifu5Ut1UDl"
      },
      "outputs": [],
      "source": [
        "s = pd.Series([1, 3, 5, np.nan, 6, 8])\n",
        "s"
      ]
    },
    {
      "cell_type": "markdown",
      "metadata": {
        "id": "Aqhsg1Cs1UDn"
      },
      "source": [
        "Создание `Кадра данных` ([`DataFrame`](https://pandas.pydata.org/pandas-docs/stable/reference/api/pandas.DataFrame.html#pandas.DataFrame)) путем передачи массива NumPy с временнЫм индексом и помеченными столбцами:"
      ]
    },
    {
      "cell_type": "code",
      "execution_count": null,
      "metadata": {
        "id": "mTdeYUp31UDo"
      },
      "outputs": [],
      "source": [
        "# указываем начало временнОго периода и число повторений (дни по умолчанию)\n",
        "dates = pd.date_range('20130101', periods=6) \n",
        "dates"
      ]
    },
    {
      "cell_type": "code",
      "execution_count": null,
      "metadata": {
        "id": "zfv6JQLh1UDo"
      },
      "outputs": [],
      "source": [
        "df = pd.DataFrame(np.random.randn(6, 4), index=dates, columns=list('ABCD'))\n",
        "df"
      ]
    },
    {
      "cell_type": "markdown",
      "metadata": {
        "id": "RAWD2h5h1UDp"
      },
      "source": [
        "Создать [`DataFrame`](https://pandas.pydata.org/pandas-docs/stable/reference/api/pandas.DataFrame.html#pandas.DataFrame) можно путем передачи питоновского словаря объектов, которые можно преобразовать в серию."
      ]
    },
    {
      "cell_type": "code",
      "execution_count": null,
      "metadata": {
        "id": "IclIcoLZ1UDq"
      },
      "outputs": [],
      "source": [
        "df2 = pd.DataFrame({'A': 1.,\n",
        "                    'B': pd.Timestamp('20130102'), # временнАя метка\n",
        "                    'C': pd.Series(1, index=list(range(4)), dtype='float32'), # Серия на основе списка\n",
        "                    'D': np.array([3] * 4, dtype='int32'), # массив целых чисел NumPy \n",
        "                    'E': pd.Categorical([\"test\", \"train\", \"test\", \"train\"]), # категории\n",
        "                    'F': 'foo'})\n",
        "df2"
      ]
    },
    {
      "cell_type": "markdown",
      "metadata": {
        "id": "ipLhG3K61UDq"
      },
      "source": [
        "Столбцы итогового [`DataFrame`](https://pandas.pydata.org/pandas-docs/stable/reference/api/pandas.DataFrame.html#pandas.DataFrame) имеют разные [типы данных](https://pandas.pydata.org/pandas-docs/stable/user_guide/basics.html#basics-dtypes)."
      ]
    },
    {
      "cell_type": "code",
      "execution_count": null,
      "metadata": {
        "id": "zdUjbrWY1UDq"
      },
      "outputs": [],
      "source": [
        "df2.dtypes"
      ]
    },
    {
      "cell_type": "markdown",
      "metadata": {
        "id": "ErnaTu3S1UDr"
      },
      "source": [
        "Если вы используете `IPython` или `Jupyter (Lab) Notebook (Colab)`, то по нажатию TAB после точки отобразятся публичные атрибуты объекта (в данном случае `DataFrame`): "
      ]
    },
    {
      "cell_type": "code",
      "execution_count": null,
      "metadata": {
        "id": "DIYR4MRs1UDr"
      },
      "outputs": [],
      "source": [
        "# Попробуйте убрать комментарий и нажать TAB\n",
        "# df2.<TAB>  "
      ]
    },
    {
      "cell_type": "markdown",
      "metadata": {
        "id": "e06oz_xH1UDs"
      },
      "source": [
        "## Просмотр данных"
      ]
    },
    {
      "cell_type": "markdown",
      "metadata": {
        "id": "ADCXWKSh1UDs"
      },
      "source": [
        "Подробнее см. [Документацию по базовой функциональности](https://pandas.pydata.org/pandas-docs/stable/user_guide/basics.html#basics)."
      ]
    },
    {
      "cell_type": "markdown",
      "metadata": {
        "id": "VN2aYylM1UDt"
      },
      "source": [
        "Просмотрим верхние и нижние строки полученного кадра данных:"
      ]
    },
    {
      "cell_type": "code",
      "execution_count": null,
      "metadata": {
        "id": "3KHisNFq1UDu"
      },
      "outputs": [],
      "source": [
        "df.head()"
      ]
    },
    {
      "cell_type": "code",
      "execution_count": null,
      "metadata": {
        "id": "Dj882CQJ1UDw"
      },
      "outputs": [],
      "source": [
        "df.tail(3) # вывести последние три строки"
      ]
    },
    {
      "cell_type": "markdown",
      "metadata": {
        "id": "ncls4A-n1UDx"
      },
      "source": [
        "Отобразим индекс и столбцы:"
      ]
    },
    {
      "cell_type": "code",
      "execution_count": null,
      "metadata": {
        "id": "tzYpxZ7R1UDy"
      },
      "outputs": [],
      "source": [
        "df.index"
      ]
    },
    {
      "cell_type": "code",
      "execution_count": null,
      "metadata": {
        "id": "BPZON96C1UDz"
      },
      "outputs": [],
      "source": [
        "df.columns"
      ]
    },
    {
      "cell_type": "markdown",
      "metadata": {
        "id": "VTKtXNiT1UD0"
      },
      "source": [
        "Метод [`DataFrame.to_numpy()`](https://pandas.pydata.org/pandas-docs/stable/reference/api/pandas.DataFrame.to_numpy.html#pandas.DataFrame.to_numpy) представляет данные в виде массива NumPy, на котором строится DataFrame. "
      ]
    },
    {
      "cell_type": "code",
      "execution_count": null,
      "metadata": {
        "id": "su1Sokrk1UD1"
      },
      "outputs": [],
      "source": [
        "df.to_numpy()"
      ]
    },
    {
      "cell_type": "markdown",
      "metadata": {
        "id": "RmyiTKHq1UD1"
      },
      "source": [
        "Обратите внимание, что эта операция может занять много времени, если ваш `DataFrame` имеет столбцы с разными типами данных, что сводится к фундаментальному различию между pandas и `NumPy`: массивы `NumPy` имеют один тип данных для всего массива, тогда как `DataFrames` в pandas имеет один тип данных для каждого столбца. Когда вы вызываете `DataFrame.to_numpy()`, pandas определит тип данных `NumPy`, который может содержать все типы данных `DataFrame`. Этот тип данных может в конечном итоге оказаться объектом (`object`, т.е. строкой), что потребует приведения каждого значения к объекту Python.\n",
        "\n",
        "Наш `DataFrame` содержит значения с плавающей точкой, поэтому `DataFrame.to_numpy()` сработает быстро и не требует копирования данных."
      ]
    },
    {
      "cell_type": "markdown",
      "metadata": {
        "id": "u94elZNE1UD2"
      },
      "source": [
        "Для df2, который содержит несколько типов данных, вызов `DataFrame.to_numpy()` является относительно дорогостоящим:"
      ]
    },
    {
      "cell_type": "code",
      "execution_count": null,
      "metadata": {
        "id": "WHE3SENa1UD2"
      },
      "outputs": [],
      "source": [
        "df2.to_numpy()"
      ]
    },
    {
      "cell_type": "markdown",
      "metadata": {
        "id": "OnhpV2Pa1UD2"
      },
      "source": [
        "Обратите внимание, что `DataFrame.to_numpy()` не включает в вывод метки индекса или столбцов."
      ]
    },
    {
      "cell_type": "markdown",
      "metadata": {
        "id": "UmnzOoMO1UD3"
      },
      "source": [
        "Метод [`describe()`](https://pandas.pydata.org/pandas-docs/stable/reference/api/pandas.DataFrame.describe.html#pandas.DataFrame.describe) показывает краткую статистическую сводку для данных:"
      ]
    },
    {
      "cell_type": "code",
      "execution_count": null,
      "metadata": {
        "id": "yht1g_TT1UD4"
      },
      "outputs": [],
      "source": [
        "df.describe()"
      ]
    },
    {
      "cell_type": "markdown",
      "metadata": {
        "id": "PbAdrOj41UD4"
      },
      "source": [
        "Транспонируем данные:"
      ]
    },
    {
      "cell_type": "code",
      "execution_count": null,
      "metadata": {
        "id": "sWp-kV7F1UD4"
      },
      "outputs": [],
      "source": [
        "df.T"
      ]
    },
    {
      "cell_type": "markdown",
      "metadata": {
        "id": "7pU_8rBM1UD5"
      },
      "source": [
        "Сортировка по столбцам, см. [`sort_index()`](https://pandas.pydata.org/pandas-docs/stable/reference/api/pandas.DataFrame.sort_index.html):"
      ]
    },
    {
      "cell_type": "code",
      "execution_count": null,
      "metadata": {
        "id": "6ZDyrTA71UD5"
      },
      "outputs": [],
      "source": [
        "df.sort_index(axis=1, ascending=False) # по умолчанию axis=0, т.е. сортировка по строкам"
      ]
    },
    {
      "cell_type": "markdown",
      "metadata": {
        "id": "3TWp-ppp1UD6"
      },
      "source": [
        "Сортировка по значениям, см. [`sort_values()`](https://pandas.pydata.org/pandas-docs/stable/reference/api/pandas.DataFrame.sort_values.html#pandas.DataFrame.sort_values):"
      ]
    },
    {
      "cell_type": "code",
      "execution_count": null,
      "metadata": {
        "id": "kfqjoTnk1UD6"
      },
      "outputs": [],
      "source": [
        "df.sort_values(by='B') # по умолчанию сортировка по индексу, выбрали столбец 'B'"
      ]
    },
    {
      "cell_type": "markdown",
      "metadata": {
        "id": "xDd3p49F1UD6"
      },
      "source": [
        "## Выбор"
      ]
    },
    {
      "cell_type": "markdown",
      "metadata": {
        "id": "Xm0O5oO31UD7"
      },
      "source": [
        "Рекомендуем использовать оптимизированные методы pandas для доступа к данным: `.at`, `.iat`, `.loc` и `.iloc`."
      ]
    },
    {
      "cell_type": "markdown",
      "metadata": {
        "id": "vvmBMntk1UD7"
      },
      "source": [
        "Подробнее см. [Документацию по индексированию и выбору данных](https://pandas.pydata.org/pandas-docs/stable/user_guide/indexing.html#indexing) и [Мультииндексу](https://pandas.pydata.org/pandas-docs/stable/user_guide/advanced.html#advanced)."
      ]
    },
    {
      "cell_type": "markdown",
      "metadata": {
        "id": "Er25SnDZ1UD7"
      },
      "source": [
        "### Получение"
      ]
    },
    {
      "cell_type": "markdown",
      "metadata": {
        "id": "cnaszUjQ1UD8"
      },
      "source": [
        "Выбор столбца, который возвращает [`Series`](https://pandas.pydata.org/pandas-docs/stable/reference/api/pandas.Series.html#pandas.Series), эквивалентно `df.A`:"
      ]
    },
    {
      "cell_type": "code",
      "execution_count": null,
      "metadata": {
        "id": "du5oQqaD1UD8"
      },
      "outputs": [],
      "source": [
        "df['A']"
      ]
    },
    {
      "cell_type": "markdown",
      "metadata": {
        "id": "5kgS1t7P1UD9"
      },
      "source": [
        "Выбор с помощью `[ ]`, вырезает строки:"
      ]
    },
    {
      "cell_type": "code",
      "execution_count": null,
      "metadata": {
        "id": "QCbHN6IL1UD9"
      },
      "outputs": [],
      "source": [
        "df[0:3]"
      ]
    },
    {
      "cell_type": "code",
      "execution_count": null,
      "metadata": {
        "id": "yriiRb8R1UD-"
      },
      "outputs": [],
      "source": [
        "df['20130102':'20130104']"
      ]
    },
    {
      "cell_type": "markdown",
      "metadata": {
        "id": "PA9ID4Jb1UD-"
      },
      "source": [
        "### Выбор по метке"
      ]
    },
    {
      "cell_type": "markdown",
      "metadata": {
        "id": "rQk4oCAH1UD-"
      },
      "source": [
        "Подробнее см. в [Документации](https://pandas.pydata.org/pandas-docs/stable/user_guide/indexing.html#indexing-label)"
      ]
    },
    {
      "cell_type": "markdown",
      "metadata": {
        "id": "HD-yD_x91UD_"
      },
      "source": [
        "Для получения строки с помощью метки:"
      ]
    },
    {
      "cell_type": "code",
      "execution_count": null,
      "metadata": {
        "id": "eELRTXDA1UD_"
      },
      "outputs": [],
      "source": [
        "df.loc[dates[0]] # метка индекса Timestamp('2013-01-01 00:00:00', freq='D')"
      ]
    },
    {
      "cell_type": "markdown",
      "metadata": {
        "id": "yoYsxRQM1UD_"
      },
      "source": [
        "Выбор по нескольким осям:"
      ]
    },
    {
      "cell_type": "code",
      "execution_count": null,
      "metadata": {
        "id": "aBWQDwaq1UEA"
      },
      "outputs": [],
      "source": [
        "df.loc[:, ['A', 'B']]"
      ]
    },
    {
      "cell_type": "markdown",
      "metadata": {
        "id": "fXOkf1ki1UEA"
      },
      "source": [
        "При отображении срезов меток включаются обе конечные точки:"
      ]
    },
    {
      "cell_type": "code",
      "execution_count": null,
      "metadata": {
        "id": "bm980KeW1UEB"
      },
      "outputs": [],
      "source": [
        "df.loc['20130102':'20130104', ['A', 'B']]"
      ]
    },
    {
      "cell_type": "markdown",
      "metadata": {
        "id": "3gebeBrF1UEB"
      },
      "source": [
        "Уменьшение размерности возвращаемого объекта:"
      ]
    },
    {
      "cell_type": "code",
      "execution_count": null,
      "metadata": {
        "id": "FmFhlwBV1UEC"
      },
      "outputs": [],
      "source": [
        "df.loc['20130102', ['A', 'B']]"
      ]
    },
    {
      "cell_type": "markdown",
      "metadata": {
        "id": "sUonwThV1UEC"
      },
      "source": [
        "Для получения скалярного значения:"
      ]
    },
    {
      "cell_type": "code",
      "execution_count": null,
      "metadata": {
        "id": "kuHr7AbW1UED"
      },
      "outputs": [],
      "source": [
        "df.loc[dates[0], 'A']"
      ]
    },
    {
      "cell_type": "markdown",
      "metadata": {
        "id": "iGoUcbGc1UED"
      },
      "source": [
        "Для получения быстрого доступа к скаляру (эквивалентно предыдущему методу):"
      ]
    },
    {
      "cell_type": "code",
      "execution_count": null,
      "metadata": {
        "id": "Id0qMoHN1UEE"
      },
      "outputs": [],
      "source": [
        "df.at[dates[0], 'A']"
      ]
    },
    {
      "cell_type": "markdown",
      "metadata": {
        "id": "jkA-ms0K1UEE"
      },
      "source": [
        "### Выбор по позиции"
      ]
    },
    {
      "cell_type": "markdown",
      "metadata": {
        "id": "K70RpISg1UEF"
      },
      "source": [
        "Подробнее см. в [Документации](https://pandas.pydata.org/pandas-docs/stable/user_guide/indexing.html#indexing-integer)"
      ]
    },
    {
      "cell_type": "markdown",
      "metadata": {
        "id": "tQK0XsSa1UEF"
      },
      "source": [
        "Выбор позиции с помощью целых чисел:"
      ]
    },
    {
      "cell_type": "code",
      "execution_count": null,
      "metadata": {
        "id": "zZF0-tT21UEG"
      },
      "outputs": [],
      "source": [
        "df.iloc[3]"
      ]
    },
    {
      "cell_type": "markdown",
      "metadata": {
        "id": "VYTOn50l1UEH"
      },
      "source": [
        "По целочисленным срезам, действующим аналогично NumPy / Python, т.е. правое граничное значение не включается:"
      ]
    },
    {
      "cell_type": "code",
      "execution_count": null,
      "metadata": {
        "id": "23EAinir1UEH"
      },
      "outputs": [],
      "source": [
        "df.iloc[3:5, 0:2]"
      ]
    },
    {
      "cell_type": "markdown",
      "metadata": {
        "id": "0NyAojNz1UEH"
      },
      "source": [
        "По спискам целочисленных позиций, аналогично стилю NumPy / Python:"
      ]
    },
    {
      "cell_type": "code",
      "execution_count": null,
      "metadata": {
        "id": "bqfUP6uO1UEH"
      },
      "outputs": [],
      "source": [
        "df.iloc[[1, 2, 4], [0, 2]]"
      ]
    },
    {
      "cell_type": "markdown",
      "metadata": {
        "id": "9guJ7cF21UEH"
      },
      "source": [
        "Для явного создания среза строк:"
      ]
    },
    {
      "cell_type": "code",
      "execution_count": null,
      "metadata": {
        "id": "HaP8UpOR1UEI"
      },
      "outputs": [],
      "source": [
        "df.iloc[1:3, :]"
      ]
    },
    {
      "cell_type": "markdown",
      "metadata": {
        "id": "xsNK4gN61UEI"
      },
      "source": [
        "Для явного создания среза столбцов:"
      ]
    },
    {
      "cell_type": "code",
      "execution_count": null,
      "metadata": {
        "id": "xYOveAdI1UEI"
      },
      "outputs": [],
      "source": [
        "df.iloc[:, 1:3]"
      ]
    },
    {
      "cell_type": "markdown",
      "metadata": {
        "id": "HidUtdLO1UEI"
      },
      "source": [
        "Для явного получения значений:"
      ]
    },
    {
      "cell_type": "code",
      "execution_count": null,
      "metadata": {
        "id": "KkyGq0BN1UEJ"
      },
      "outputs": [],
      "source": [
        "df.iloc[1, 1]"
      ]
    },
    {
      "cell_type": "markdown",
      "metadata": {
        "id": "ym5pTc-D1UEJ"
      },
      "source": [
        "Для получения быстрого доступа к скаляру (эквивалентно предыдущему методу):"
      ]
    },
    {
      "cell_type": "code",
      "execution_count": null,
      "metadata": {
        "id": "_6TDp7GV1UEJ"
      },
      "outputs": [],
      "source": [
        "df.iat[1, 1]"
      ]
    },
    {
      "cell_type": "markdown",
      "metadata": {
        "id": "RNn3CWVf1UEJ"
      },
      "source": [
        "### Булево индексирование"
      ]
    },
    {
      "cell_type": "markdown",
      "metadata": {
        "id": "SxwD9EIY1UEJ"
      },
      "source": [
        "Использование значений одного столбца для выбора данных:"
      ]
    },
    {
      "cell_type": "code",
      "execution_count": null,
      "metadata": {
        "id": "0ZMd1Q2d1UEJ"
      },
      "outputs": [],
      "source": [
        "df[df['A'] > 0]"
      ]
    },
    {
      "cell_type": "markdown",
      "metadata": {
        "id": "Fv49L-w71UEK"
      },
      "source": [
        "Выбор значений из `DataFrame`, для которых выполняется логическое условие:"
      ]
    },
    {
      "cell_type": "code",
      "execution_count": null,
      "metadata": {
        "id": "cKC5Q6CU1UEK"
      },
      "outputs": [],
      "source": [
        "df[df > 0]"
      ]
    },
    {
      "cell_type": "markdown",
      "metadata": {
        "id": "XVP7LJAn1UEK"
      },
      "source": [
        "Использование метода [`isin()`](https://pandas.pydata.org/pandas-docs/stable/reference/api/pandas.Series.isin.html#pandas.Series.isin) для фильтрации:"
      ]
    },
    {
      "cell_type": "code",
      "execution_count": null,
      "metadata": {
        "id": "uw6S8ZjJ1UEK"
      },
      "outputs": [],
      "source": [
        "df2 = df.copy() # создаем копию исходгого кадра данных"
      ]
    },
    {
      "cell_type": "code",
      "execution_count": null,
      "metadata": {
        "id": "xzuea2jW1UEK"
      },
      "outputs": [],
      "source": [
        "df2['E'] = ['one', 'one', 'two', 'three', 'four', 'three'] # добавляем столбец\n",
        "df2"
      ]
    },
    {
      "cell_type": "code",
      "execution_count": null,
      "metadata": {
        "id": "hjeOC43w1UEL"
      },
      "outputs": [],
      "source": [
        "df2[df2['E'].isin(['two', 'four'])] # фильтруем"
      ]
    },
    {
      "cell_type": "markdown",
      "metadata": {
        "id": "VViJSzfl1UEL"
      },
      "source": [
        "### Установка значений"
      ]
    },
    {
      "cell_type": "markdown",
      "metadata": {
        "id": "ogsd57w71UEL"
      },
      "source": [
        "При добавлении нового столбца данные автоматически выравниваются по индексам:"
      ]
    },
    {
      "cell_type": "code",
      "execution_count": null,
      "metadata": {
        "id": "5dLvL63U1UEL"
      },
      "outputs": [],
      "source": [
        "s1 = pd.Series([1, 2, 3, 4, 5, 6], index=pd.date_range('20130102', periods=6))\n",
        "s1"
      ]
    },
    {
      "cell_type": "code",
      "execution_count": null,
      "metadata": {
        "id": "xPVyu87V1UEL"
      },
      "outputs": [],
      "source": [
        "df['F'] = s1 # отсутствующие значения после выравнивания заменились NaN\n",
        "df"
      ]
    },
    {
      "cell_type": "markdown",
      "metadata": {
        "id": "_CfxwKdQ1UEM"
      },
      "source": [
        "Установка значений по метке:"
      ]
    },
    {
      "cell_type": "code",
      "execution_count": null,
      "metadata": {
        "id": "f3RlSfaD1UEM"
      },
      "outputs": [],
      "source": [
        "df.iat[0, 1] = 0\n",
        "df"
      ]
    },
    {
      "cell_type": "markdown",
      "metadata": {
        "id": "bL7q5Gj21UEM"
      },
      "source": [
        "Установка значений путем присвоения массива NumPy:"
      ]
    },
    {
      "cell_type": "code",
      "execution_count": null,
      "metadata": {
        "id": "yc3BkOSw1UEN"
      },
      "outputs": [],
      "source": [
        "df.loc[:, 'D'] = np.array([5] * len(df))\n",
        "df"
      ]
    },
    {
      "cell_type": "markdown",
      "metadata": {
        "id": "ZCWKJ5M41UEN"
      },
      "source": [
        "Операция [`where`](https://pandas.pydata.org/pandas-docs/stable/reference/api/pandas.DataFrame.where.html) с помощью присвоения:"
      ]
    },
    {
      "cell_type": "code",
      "execution_count": null,
      "metadata": {
        "id": "bPhw6VpP1UEO"
      },
      "outputs": [],
      "source": [
        "df2 = df.copy() # копируем кадр данных\n",
        "df2"
      ]
    },
    {
      "cell_type": "code",
      "execution_count": null,
      "metadata": {
        "id": "OzY6h3B01UEO"
      },
      "outputs": [],
      "source": [
        "df2[df2 > 0] = -df2 # все положительные превращаем в отрицательные\n",
        "df2"
      ]
    },
    {
      "cell_type": "markdown",
      "metadata": {
        "id": "La2nIpyU1UEO"
      },
      "source": [
        "## Отсутствующие данные"
      ]
    },
    {
      "cell_type": "markdown",
      "metadata": {
        "id": "LZE5QHhr1UEP"
      },
      "source": [
        "pandas в основном использует значение [`np.nan`](https://numpy.org/doc/stable/user/misc.html) для представления отсутствующих данных. По умолчанию они не включается в вычисления, см. подробнее в [Документации](https://pandas.pydata.org/pandas-docs/stable/user_guide/missing_data.html#missing-data)"
      ]
    },
    {
      "cell_type": "markdown",
      "metadata": {
        "id": "Z70uQqP91UEP"
      },
      "source": [
        "Повторное индексирование позволяет изменить/добавить/удалить индекс по указанной оси. Метод возвращает копию данных."
      ]
    },
    {
      "cell_type": "code",
      "execution_count": null,
      "metadata": {
        "id": "8UAKwz771UEP"
      },
      "outputs": [],
      "source": [
        "df1 = df.reindex(index=dates[0:4], columns=list(df.columns) + ['E'])\n",
        "df1"
      ]
    },
    {
      "cell_type": "code",
      "execution_count": null,
      "metadata": {
        "id": "57PMdtJb1UEQ"
      },
      "outputs": [],
      "source": [
        "df1.loc[dates[0]:dates[1], 'E'] = 1\n",
        "df1"
      ]
    },
    {
      "cell_type": "markdown",
      "metadata": {
        "id": "2GcGe0Yx1UEQ"
      },
      "source": [
        "Чтобы удалить строки, в которых отсутствуют данные, см. [`dropna()`](https://pandas.pydata.org/pandas-docs/stable/reference/api/pandas.DataFrame.dropna.html):"
      ]
    },
    {
      "cell_type": "code",
      "execution_count": null,
      "metadata": {
        "id": "2YvXaWfn1UEQ"
      },
      "outputs": [],
      "source": [
        "df1.dropna() # how='any', axis=0 по умолчанию, т.е. удаляются все строки с пропущенными данными"
      ]
    },
    {
      "cell_type": "markdown",
      "metadata": {
        "id": "mxBwVN921UEQ"
      },
      "source": [
        "Заполнение недостающих данных:"
      ]
    },
    {
      "cell_type": "code",
      "execution_count": null,
      "metadata": {
        "id": "RfS5uni71UEQ"
      },
      "outputs": [],
      "source": [
        "df1.fillna(value=5)"
      ]
    },
    {
      "cell_type": "markdown",
      "metadata": {
        "id": "-84-V5eg1UER"
      },
      "source": [
        "Чтобы получить логическую маску, в которой значениями являются nan."
      ]
    },
    {
      "cell_type": "code",
      "execution_count": null,
      "metadata": {
        "id": "ITwPSc_F1UES"
      },
      "outputs": [],
      "source": [
        "pd.isna(df1)"
      ]
    },
    {
      "cell_type": "markdown",
      "metadata": {
        "id": "eZZzqAdI1UET"
      },
      "source": [
        "## Операции"
      ]
    },
    {
      "cell_type": "markdown",
      "metadata": {
        "id": "8hE5fyVB1UET"
      },
      "source": [
        "См. в [Документации](https://pandas.pydata.org/pandas-docs/stable/user_guide/basics.html#basics-binop)"
      ]
    },
    {
      "cell_type": "markdown",
      "metadata": {
        "id": "Jlnu6sHf1UEU"
      },
      "source": [
        "### Статистика"
      ]
    },
    {
      "cell_type": "markdown",
      "metadata": {
        "id": "AF7AY4_V1UEU"
      },
      "source": [
        "Операции в целом исключают пропущенные данные."
      ]
    },
    {
      "cell_type": "markdown",
      "metadata": {
        "id": "klg94Z__1UEV"
      },
      "source": [
        "Выполнение описательной статистики:"
      ]
    },
    {
      "cell_type": "code",
      "execution_count": null,
      "metadata": {
        "id": "Sa2fuJSY1UEV"
      },
      "outputs": [],
      "source": [
        "df.mean()"
      ]
    },
    {
      "cell_type": "markdown",
      "metadata": {
        "id": "iqDiGj0C1UEW"
      },
      "source": [
        "Та же операция на другой оси:"
      ]
    },
    {
      "cell_type": "code",
      "execution_count": null,
      "metadata": {
        "id": "hKsM7uCl1UEW"
      },
      "outputs": [],
      "source": [
        "df.mean(1)"
      ]
    },
    {
      "cell_type": "markdown",
      "metadata": {
        "id": "U3ekQyD21UEW"
      },
      "source": [
        "Операции с объектами разной размерности требуют выравнивания. pandas автоматически [транслируют](https://numpy.org/doc/stable/user/basics.broadcasting.html) по указанному измерению."
      ]
    },
    {
      "cell_type": "code",
      "execution_count": null,
      "metadata": {
        "id": "OqREr9f81UEW"
      },
      "outputs": [],
      "source": [
        "s = pd.Series([1, 3, 5, np.nan, 6, 8], index=dates).shift(2) # сдвигаем индекс\n",
        "s"
      ]
    },
    {
      "cell_type": "code",
      "execution_count": null,
      "metadata": {
        "id": "jpUST3Xy1UEW"
      },
      "outputs": [],
      "source": [
        "df"
      ]
    },
    {
      "cell_type": "code",
      "execution_count": null,
      "metadata": {
        "id": "baVnTaGw1UEX"
      },
      "outputs": [],
      "source": [
        "df.sub(s, axis=0) # https://pandas.pydata.org/pandas-docs/stable/reference/api/pandas.DataFrame.sub.html"
      ]
    },
    {
      "cell_type": "markdown",
      "metadata": {
        "id": "gtEFvnJ71UEX"
      },
      "source": [
        "### Apply"
      ]
    },
    {
      "cell_type": "markdown",
      "metadata": {
        "id": "_KdJgxfR1UEX"
      },
      "source": [
        "Применение функций к данным:"
      ]
    },
    {
      "cell_type": "code",
      "execution_count": null,
      "metadata": {
        "id": "SjGW-Vjj1UEX"
      },
      "outputs": [],
      "source": [
        "df.apply(np.cumsum)"
      ]
    },
    {
      "cell_type": "code",
      "execution_count": null,
      "metadata": {
        "id": "6C8UTUBr1UEX"
      },
      "outputs": [],
      "source": [
        "df.apply(lambda x: x.max() - x.min())"
      ]
    },
    {
      "cell_type": "markdown",
      "metadata": {
        "id": "jfcRpRHq1UEX"
      },
      "source": [
        "### Гистограмма"
      ]
    },
    {
      "cell_type": "markdown",
      "metadata": {
        "id": "a3l02MMU1UEY"
      },
      "source": [
        "Подробнее см. в [Документации](https://pandas.pydata.org/pandas-docs/stable/user_guide/basics.html#basics-discretization)"
      ]
    },
    {
      "cell_type": "code",
      "execution_count": null,
      "metadata": {
        "id": "Br4gjWKL1UEY"
      },
      "outputs": [],
      "source": [
        "s = pd.Series(np.random.randint(0, 7, size=10))\n",
        "s"
      ]
    },
    {
      "cell_type": "code",
      "execution_count": null,
      "metadata": {
        "id": "q31YSCpL1UEY"
      },
      "outputs": [],
      "source": [
        "s.value_counts()"
      ]
    },
    {
      "cell_type": "markdown",
      "metadata": {
        "id": "OTfERvpE1UEY"
      },
      "source": [
        "### Строковые методы"
      ]
    },
    {
      "cell_type": "markdown",
      "metadata": {
        "id": "HUVwd6pk1UEY"
      },
      "source": [
        "Series оснащен набором методов в атрибуте `str` для обработки строк, которые упрощают работу с каждым элементом массива. Обратите внимание, что сопоставление с образцом (pattern-matching) в `str` обычно использует [регулярные выражения](https://docs.python.org/3/library/re.html) по умолчанию (а в некоторых случаях всегда использует их), см. в [Документации](https://pandas.pydata.org/pandas-docs/stable/user_guide/text.html#text-string-methods)."
      ]
    },
    {
      "cell_type": "code",
      "execution_count": null,
      "metadata": {
        "id": "elqkc-e31UEZ"
      },
      "outputs": [],
      "source": [
        "s = pd.Series(['A', 'B', 'C', 'Aaba', 'Baca', np.nan, 'CABA', 'dog', 'cat'])\n",
        "s"
      ]
    },
    {
      "cell_type": "code",
      "execution_count": null,
      "metadata": {
        "id": "tiBfah-u1UEZ"
      },
      "outputs": [],
      "source": [
        "s.str.lower()"
      ]
    },
    {
      "cell_type": "markdown",
      "metadata": {
        "id": "D1WD562s1UEa"
      },
      "source": [
        "## Объединение (Merge)"
      ]
    },
    {
      "cell_type": "markdown",
      "metadata": {
        "id": "F-DQQ58V1UEa"
      },
      "source": [
        "### Concat"
      ]
    },
    {
      "cell_type": "markdown",
      "metadata": {
        "id": "Wnlojo771UEa"
      },
      "source": [
        "pandas предоставляет различные средства для простого объединения объектов `Series` и `DataFrame` с различными видами логики множеств для индексов и функциональности реляционной алгебры в случае операций типа соединения (`join`) / слияния (`merge`), см. в [Документации](https://pandas.pydata.org/pandas-docs/stable/user_guide/merging.html#merging)."
      ]
    },
    {
      "cell_type": "markdown",
      "metadata": {
        "id": "RjEDIGIj1UEb"
      },
      "source": [
        "Объединение объектов pandas вместе с помощью [`concat()`](https://pandas.pydata.org/pandas-docs/stable/reference/api/pandas.concat.html#pandas.concat):"
      ]
    },
    {
      "cell_type": "code",
      "execution_count": null,
      "metadata": {
        "id": "5n4FKjmT1UEh"
      },
      "outputs": [],
      "source": [
        "df = pd.DataFrame(np.random.randn(10, 4))\n",
        "df"
      ]
    },
    {
      "cell_type": "code",
      "execution_count": null,
      "metadata": {
        "id": "35sj0siV1UEm"
      },
      "outputs": [],
      "source": [
        "pieces = [df[:3], df[3:7], df[7:]] # разбиваем на части"
      ]
    },
    {
      "cell_type": "code",
      "execution_count": null,
      "metadata": {
        "id": "qUj0UcoI1UEn"
      },
      "outputs": [],
      "source": [
        "pd.concat(pieces)"
      ]
    },
    {
      "cell_type": "markdown",
      "metadata": {
        "id": "s5oEpoix1UEn"
      },
      "source": [
        "Добавление столбца в [`DataFrame`](https://pandas.pydata.org/pandas-docs/stable/reference/api/pandas.DataFrame.html#pandas.DataFrame) выполняется относительно быстро. Однако для добавления строки требуется создание копии, и это может стать трудозтратной операцией. Рекомендуем передавать предварительно созданный список записей в конструктор `DataFrame` вместо создания `DataFrame` путем итеративного добавления к нему записей. Подробнее см. в [Документации](https://pandas.pydata.org/pandas-docs/stable/user_guide/merging.html#merging-concatenation)."
      ]
    },
    {
      "cell_type": "markdown",
      "metadata": {
        "id": "8VIASkEH1UEn"
      },
      "source": [
        "### Присоединение (Join)"
      ]
    },
    {
      "cell_type": "markdown",
      "metadata": {
        "id": "u9RwxlLF1UEn"
      },
      "source": [
        "Слияние в стиле `SQL`, см. в [Документации](https://pandas.pydata.org/pandas-docs/stable/user_guide/merging.html#merging-join)."
      ]
    },
    {
      "cell_type": "code",
      "execution_count": null,
      "metadata": {
        "id": "n_k_Qdtt1UEo"
      },
      "outputs": [],
      "source": [
        "left = pd.DataFrame({'key': ['foo', 'foo'], 'lval': [1, 2]})\n",
        "left"
      ]
    },
    {
      "cell_type": "code",
      "execution_count": null,
      "metadata": {
        "id": "Tu1o4qHy1UEo"
      },
      "outputs": [],
      "source": [
        "right = pd.DataFrame({'key': ['foo', 'foo'], 'rval': [4, 5]})\n",
        "right"
      ]
    },
    {
      "cell_type": "code",
      "execution_count": null,
      "metadata": {
        "id": "KbR-Q0DB1UEo"
      },
      "outputs": [],
      "source": [
        "pd.merge(left, right, on='key')"
      ]
    },
    {
      "cell_type": "markdown",
      "metadata": {
        "id": "fYZW82N11UEo"
      },
      "source": [
        "Другой пример, который можно привести:"
      ]
    },
    {
      "cell_type": "code",
      "execution_count": null,
      "metadata": {
        "id": "nH753DnO1UEp"
      },
      "outputs": [],
      "source": [
        "left = pd.DataFrame({'key': ['foo', 'bar'], 'lval': [1, 2]})\n",
        "left"
      ]
    },
    {
      "cell_type": "code",
      "execution_count": null,
      "metadata": {
        "id": "iTgszSzg1UEp"
      },
      "outputs": [],
      "source": [
        "right = pd.DataFrame({'key': ['foo', 'bar'], 'rval': [4, 5]})\n",
        "right"
      ]
    },
    {
      "cell_type": "code",
      "execution_count": null,
      "metadata": {
        "id": "DtlWgHYc1UEp"
      },
      "outputs": [],
      "source": [
        "pd.merge(left, right, on='key')"
      ]
    },
    {
      "cell_type": "markdown",
      "metadata": {
        "id": "LXk6COY61UEp"
      },
      "source": [
        "## Группировка"
      ]
    },
    {
      "cell_type": "markdown",
      "metadata": {
        "id": "1D8IpotP1UEp"
      },
      "source": [
        "Под группировкой (`\"group by\"`) понимаем процесс, включающий один или несколько следующих шагов: \n",
        "\n",
        "- Разделение (`Splitting`) данных на группы по некоторым критериям.\n",
        "- Независимое применение (`Applying`) функции к каждой группе.\n",
        "- Объединение (`Combining`) результатов в структуру данных.\n",
        "\n",
        "Подробнее см. в [Документации](https://pandas.pydata.org/pandas-docs/stable/user_guide/groupby.html#groupby)"
      ]
    },
    {
      "cell_type": "code",
      "execution_count": null,
      "metadata": {
        "id": "eU96i5jU1UEq"
      },
      "outputs": [],
      "source": [
        "df = pd.DataFrame({'A': ['foo', 'bar', 'foo', 'bar',\n",
        "                         'foo', 'bar', 'foo', 'foo'],\n",
        "                   'B': ['one', 'one', 'two', 'three',\n",
        "                         'two', 'two', 'one', 'three'],\n",
        "                   'C': np.random.randn(8),\n",
        "                   'D': np.random.randn(8)})\n",
        "df"
      ]
    },
    {
      "cell_type": "markdown",
      "metadata": {
        "id": "Yq2RBeVn1UEr"
      },
      "source": [
        "Группировка, а затем применение функции [`sum()`](https://pandas.pydata.org/pandas-docs/stable/reference/api/pandas.core.groupby.GroupBy.sum.html#pandas.core.groupby.GroupBy.sum) к полученным группам."
      ]
    },
    {
      "cell_type": "code",
      "execution_count": null,
      "metadata": {
        "id": "KyWKp9CW1UEs"
      },
      "outputs": [],
      "source": [
        "df.groupby('A').sum()"
      ]
    },
    {
      "cell_type": "markdown",
      "metadata": {
        "id": "CXsMxMl41UEs"
      },
      "source": [
        "Группировка по нескольким столбцам образует иерархический (мультииндекс) индекс, и мы снова можем применить функцию `sum()`."
      ]
    },
    {
      "cell_type": "code",
      "execution_count": null,
      "metadata": {
        "id": "I4Z3FgNn1UEt"
      },
      "outputs": [],
      "source": [
        "df.groupby(['A', 'B']).sum()"
      ]
    },
    {
      "cell_type": "markdown",
      "metadata": {
        "id": "fbGf9Uj21UEu"
      },
      "source": [
        "## Изменение формы"
      ]
    },
    {
      "cell_type": "markdown",
      "metadata": {
        "id": "-wsSiwZs1UEv"
      },
      "source": [
        "См. Документацию про [иерархическую индексацию](https://pandas.pydata.org/pandas-docs/stable/user_guide/advanced.html#advanced-hierarchical) и [изменение формы](https://pandas.pydata.org/pandas-docs/stable/user_guide/reshaping.html#reshaping-stacking)."
      ]
    },
    {
      "cell_type": "markdown",
      "metadata": {
        "id": "Uk37GBAU1UEv"
      },
      "source": [
        "### Stack"
      ]
    },
    {
      "cell_type": "code",
      "execution_count": null,
      "metadata": {
        "id": "2U50EPyz1UEx"
      },
      "outputs": [],
      "source": [
        "tuples = list(zip(*[['bar', 'bar', 'baz', 'baz',\n",
        "                     'foo', 'foo', 'qux', 'qux'],\n",
        "                    ['one', 'two', 'one', 'two',\n",
        "                     'one', 'two', 'one', 'two']]))\n",
        "tuples"
      ]
    },
    {
      "cell_type": "code",
      "execution_count": null,
      "metadata": {
        "id": "JZdx_obh1UEx"
      },
      "outputs": [],
      "source": [
        "index = pd.MultiIndex.from_tuples(tuples, names=['first', 'second'])\n",
        "index"
      ]
    },
    {
      "cell_type": "code",
      "execution_count": null,
      "metadata": {
        "id": "rYY-KmNW1UEx"
      },
      "outputs": [],
      "source": [
        "df = pd.DataFrame(np.random.randn(8, 2), index=index, columns=['A', 'B'])\n",
        "df"
      ]
    },
    {
      "cell_type": "code",
      "execution_count": null,
      "metadata": {
        "id": "rPn5B6BY1UEy"
      },
      "outputs": [],
      "source": [
        "df2 = df[:4]\n",
        "df2"
      ]
    },
    {
      "cell_type": "markdown",
      "metadata": {
        "id": "cOTMARYt1UEz"
      },
      "source": [
        "Метод [`stack()`](https://pandas.pydata.org/pandas-docs/stable/reference/api/pandas.DataFrame.stack.html#pandas.DataFrame.stack) \"сжимает\" уровень в столбцах DataFrame."
      ]
    },
    {
      "cell_type": "code",
      "execution_count": null,
      "metadata": {
        "id": "S8adp_Gv1UEz"
      },
      "outputs": [],
      "source": [
        "stacked = df2.stack()\n",
        "stacked"
      ]
    },
    {
      "cell_type": "markdown",
      "metadata": {
        "id": "v222mMhY1UEz"
      },
      "source": [
        "С \"уложенными\" (`\"stacked\"`) DataFrame или Series (имеющими MultiIndex в качестве индекса) обратная операция - [`unstack()`](https://pandas.pydata.org/pandas-docs/stable/reference/api/pandas.DataFrame.unstack.html#pandas.DataFrame.unstack), которая по умолчанию распаковывает последний уровень:"
      ]
    },
    {
      "cell_type": "code",
      "execution_count": null,
      "metadata": {
        "id": "KDojvzIH1UE0"
      },
      "outputs": [],
      "source": [
        "stacked.unstack()"
      ]
    },
    {
      "cell_type": "code",
      "execution_count": null,
      "metadata": {
        "id": "RzfFAQ4L1UE0"
      },
      "outputs": [],
      "source": [
        "stacked.unstack(1)"
      ]
    },
    {
      "cell_type": "code",
      "execution_count": null,
      "metadata": {
        "id": "4EFKac7v1UE1"
      },
      "outputs": [],
      "source": [
        "stacked.unstack(0)"
      ]
    },
    {
      "cell_type": "markdown",
      "metadata": {
        "id": "vi-Vmb9u1UE1"
      },
      "source": [
        "### Сводные таблицы (Pivot tables)"
      ]
    },
    {
      "cell_type": "markdown",
      "metadata": {
        "id": "ABAvz8_o1UE1"
      },
      "source": [
        "См. секцию [Документации](https://pandas.pydata.org/pandas-docs/stable/user_guide/reshaping.html#reshaping-pivot)"
      ]
    },
    {
      "cell_type": "code",
      "execution_count": null,
      "metadata": {
        "id": "kO-3pDkK1UE2"
      },
      "outputs": [],
      "source": [
        "df = pd.DataFrame({'A': ['one', 'one', 'two', 'three'] * 3,\n",
        "                   'B': ['A', 'B', 'C'] * 4,\n",
        "                   'C': ['foo', 'foo', 'foo', 'bar', 'bar', 'bar'] * 2,\n",
        "                   'D': np.random.randn(12),\n",
        "                   'E': np.random.randn(12)})\n",
        "df"
      ]
    },
    {
      "cell_type": "markdown",
      "metadata": {
        "id": "Hk89qXvR1UE2"
      },
      "source": [
        "Мы можем очень легко создать сводные таблицы из этих данных:"
      ]
    },
    {
      "cell_type": "code",
      "execution_count": null,
      "metadata": {
        "id": "vhbWcfN-1UE2"
      },
      "outputs": [],
      "source": [
        "pd.pivot_table(df, values='D', index=['A', 'B'], columns=['C'])"
      ]
    },
    {
      "cell_type": "markdown",
      "metadata": {
        "id": "brpqjRoX1UE2"
      },
      "source": [
        "## Временные ряды"
      ]
    },
    {
      "cell_type": "markdown",
      "metadata": {
        "id": "71Ha4SYM1UE2"
      },
      "source": [
        "pandas имеет простые, мощные и эффективные функции для выполнения операций передискретизации во время преобразования частоты (например, преобразование секундных данных в 5-минутные данные). См. [документацию по временным рядам](https://pandas.pydata.org/pandas-docs/stable/user_guide/timeseries.html#timeseries)."
      ]
    },
    {
      "cell_type": "code",
      "execution_count": null,
      "metadata": {
        "id": "BfQrYMwW1UE2"
      },
      "outputs": [],
      "source": [
        "rng = pd.date_range('1/1/2012', periods=100, freq='S')\n",
        "rng[:10]"
      ]
    },
    {
      "cell_type": "code",
      "execution_count": null,
      "metadata": {
        "id": "0m3wO5h51UE3"
      },
      "outputs": [],
      "source": [
        "ts = pd.Series(np.random.randint(0, 500, len(rng)), index=rng)\n",
        "ts[:10]"
      ]
    },
    {
      "cell_type": "code",
      "execution_count": null,
      "metadata": {
        "id": "hUieTlOJ1UE3"
      },
      "outputs": [],
      "source": [
        "ts.resample('5Min').sum()"
      ]
    },
    {
      "cell_type": "markdown",
      "metadata": {
        "id": "ppHw7xcF1UE3"
      },
      "source": [
        "Представление часового пояса:"
      ]
    },
    {
      "cell_type": "code",
      "execution_count": null,
      "metadata": {
        "id": "RvkATZMZ1UE3"
      },
      "outputs": [],
      "source": [
        "rng = pd.date_range('3/6/2012 00:00', periods=5, freq='D')\n",
        "rng"
      ]
    },
    {
      "cell_type": "code",
      "execution_count": null,
      "metadata": {
        "id": "dLuGJhMf1UE3"
      },
      "outputs": [],
      "source": [
        "ts = pd.Series(np.random.randn(len(rng)), rng)\n",
        "ts"
      ]
    },
    {
      "cell_type": "code",
      "execution_count": null,
      "metadata": {
        "id": "yfolMAba1UE4"
      },
      "outputs": [],
      "source": [
        "ts"
      ]
    },
    {
      "cell_type": "code",
      "execution_count": null,
      "metadata": {
        "id": "Aid3rq9o1UE4"
      },
      "outputs": [],
      "source": [
        "ts_utc = ts.tz_localize('UTC')\n",
        "ts_utc"
      ]
    },
    {
      "cell_type": "markdown",
      "metadata": {
        "id": "7iXVoyjb1UE4"
      },
      "source": [
        "Преобразование в другой часовой пояс:"
      ]
    },
    {
      "cell_type": "code",
      "execution_count": null,
      "metadata": {
        "id": "yXBO3YBm1UE4"
      },
      "outputs": [],
      "source": [
        "ts_utc.tz_convert('US/Eastern')"
      ]
    },
    {
      "cell_type": "markdown",
      "metadata": {
        "id": "niOSj3Fn1UE4"
      },
      "source": [
        "Преобразование между представлениями промежутка времени:"
      ]
    },
    {
      "cell_type": "code",
      "execution_count": null,
      "metadata": {
        "id": "WmMU2u_21UE4"
      },
      "outputs": [],
      "source": [
        "rng = pd.date_range('1/1/2012', periods=5, freq='M')\n",
        "rng"
      ]
    },
    {
      "cell_type": "code",
      "execution_count": null,
      "metadata": {
        "id": "dGpVLaNi1UE5"
      },
      "outputs": [],
      "source": [
        "ts = pd.Series(np.random.randn(len(rng)), index=rng)\n",
        "ts"
      ]
    },
    {
      "cell_type": "code",
      "execution_count": null,
      "metadata": {
        "id": "iVZKiy2F1UE5"
      },
      "outputs": [],
      "source": [
        "ps = ts.to_period()\n",
        "ps"
      ]
    },
    {
      "cell_type": "code",
      "execution_count": null,
      "metadata": {
        "id": "jwTQRq7S1UE5"
      },
      "outputs": [],
      "source": [
        "ps.to_timestamp()"
      ]
    },
    {
      "cell_type": "markdown",
      "metadata": {
        "id": "Cn6WO9eN1UE5"
      },
      "source": [
        "Преобразование между периодом и меткой времени позволяет использовать некоторые удобные арифметические функции. В следующем примере мы преобразуем ежеквартальную частоту с годом, заканчивающимся в ноябре, в 9 утра конца месяца, следующего за концом квартала:"
      ]
    },
    {
      "cell_type": "code",
      "execution_count": null,
      "metadata": {
        "id": "Pr5ghSGq1UE5"
      },
      "outputs": [],
      "source": [
        "prng = pd.period_range('1990Q1', '2000Q4', freq='Q-NOV')\n",
        "prng"
      ]
    },
    {
      "cell_type": "code",
      "execution_count": null,
      "metadata": {
        "id": "wKbkhF6l1UE6"
      },
      "outputs": [],
      "source": [
        "ts = pd.Series(np.random.randn(len(prng)), prng)\n",
        "ts[:10]"
      ]
    },
    {
      "cell_type": "code",
      "execution_count": null,
      "metadata": {
        "id": "2cxS7t2L1UE6"
      },
      "outputs": [],
      "source": [
        "ts.index = (prng.asfreq('M', 'e') + 1).asfreq('H', 's') + 9\n",
        "ts[:10]"
      ]
    },
    {
      "cell_type": "code",
      "execution_count": null,
      "metadata": {
        "id": "Rj5g80G71UE6"
      },
      "outputs": [],
      "source": [
        "ts.head()"
      ]
    },
    {
      "cell_type": "markdown",
      "metadata": {
        "id": "0QQ2G_sz1UE6"
      },
      "source": [
        "## Категории"
      ]
    },
    {
      "cell_type": "markdown",
      "metadata": {
        "id": "ps-vZfuV1UE7"
      },
      "source": [
        "pandas могут включать категориальные данные в `DataFrame`, см. [введение в категории](https://pandas.pydata.org/pandas-docs/stable/user_guide/categorical.html#categorical) и [документацию по API](https://pandas.pydata.org/pandas-docs/stable/reference/arrays.html#api-arrays-categorical)."
      ]
    },
    {
      "cell_type": "code",
      "execution_count": null,
      "metadata": {
        "id": "QDmCAbFg1UE7"
      },
      "outputs": [],
      "source": [
        "df = pd.DataFrame({\"id\": [1, 2, 3, 4, 5, 6], \n",
        "                   \"raw_grade\": ['a', 'b', 'b', 'a', 'a', 'e']})"
      ]
    },
    {
      "cell_type": "markdown",
      "metadata": {
        "id": "S_85DkmJ1UE7"
      },
      "source": [
        "Преобразуйте необработанные оценки в категориальный тип данных."
      ]
    },
    {
      "cell_type": "code",
      "execution_count": null,
      "metadata": {
        "id": "2BbkvvLg1UE7"
      },
      "outputs": [],
      "source": [
        "df[\"grade\"] = df[\"raw_grade\"].astype(\"category\")\n",
        "df[\"grade\"]"
      ]
    },
    {
      "cell_type": "markdown",
      "metadata": {
        "id": "V9zXU7UJ1UE7"
      },
      "source": [
        "Переименуйте категории в более выразительные имена (присвоение [`Series.cat.categories()`](https://pandas.pydata.org/pandas-docs/stable/reference/api/pandas.Series.cat.categories.html#pandas.Series.cat.categories) на месте!)"
      ]
    },
    {
      "cell_type": "code",
      "execution_count": null,
      "metadata": {
        "id": "f06rQRjp1UE8"
      },
      "outputs": [],
      "source": [
        "df[\"grade\"] = df[\"grade\"].cat.set_categories([\"very bad\", \"bad\", \"medium\", \"good\", \"very good\"])\n",
        "df[\"grade\"]"
      ]
    },
    {
      "cell_type": "markdown",
      "metadata": {
        "id": "BrM61g711UE8"
      },
      "source": [
        "Сортировка осуществляется по категориям, а не в лексическом порядке."
      ]
    },
    {
      "cell_type": "code",
      "execution_count": null,
      "metadata": {
        "id": "mTLU4m0M1UE8"
      },
      "outputs": [],
      "source": [
        "df.sort_values(by=\"grade\")"
      ]
    },
    {
      "cell_type": "markdown",
      "metadata": {
        "id": "ut7Nz_J-1UE8"
      },
      "source": [
        "При группировке по столбцу категорий также отображаются пустые категории."
      ]
    },
    {
      "cell_type": "code",
      "execution_count": null,
      "metadata": {
        "id": "BTwjVA5U1UE8"
      },
      "outputs": [],
      "source": [
        "df.groupby(\"grade\").size()"
      ]
    },
    {
      "cell_type": "markdown",
      "metadata": {
        "id": "9-D2G2dH1UE8"
      },
      "source": [
        "## Plotting"
      ]
    },
    {
      "cell_type": "markdown",
      "metadata": {
        "id": "y3ijqF1z1UE9"
      },
      "source": [
        "Подробнее в [Документации](https://pandas.pydata.org/pandas-docs/stable/user_guide/visualization.html#visualization)"
      ]
    },
    {
      "cell_type": "markdown",
      "metadata": {
        "id": "gptr6QXH1UE9"
      },
      "source": [
        "Используем стандартное соглашение для ссылки на `API matplotlib`:"
      ]
    },
    {
      "cell_type": "code",
      "execution_count": null,
      "metadata": {
        "id": "XlGvfNb11UE9"
      },
      "outputs": [],
      "source": [
        "import matplotlib.pyplot as plt"
      ]
    },
    {
      "cell_type": "code",
      "execution_count": null,
      "metadata": {
        "id": "R_mb-Ap81UE9"
      },
      "outputs": [],
      "source": [
        "ts = pd.Series(np.random.randn(1000), \n",
        "               index=pd.date_range('1/1/2000', periods=1000))\n",
        "ts"
      ]
    },
    {
      "cell_type": "code",
      "execution_count": null,
      "metadata": {
        "id": "wTNM8RPf1UE9"
      },
      "outputs": [],
      "source": [
        "ts = ts.cumsum()\n",
        "ts"
      ]
    },
    {
      "cell_type": "code",
      "execution_count": null,
      "metadata": {
        "id": "PBEAgEor1UE9"
      },
      "outputs": [],
      "source": [
        "ts.plot();"
      ]
    },
    {
      "cell_type": "markdown",
      "metadata": {
        "id": "0cIUumZH1UE-"
      },
      "source": [
        "В `DataFrame` метод [`plot()`](https://pandas.pydata.org/pandas-docs/stable/reference/api/pandas.DataFrame.plot.html#pandas.DataFrame.plot) удобен для построения всех столбцов с метками:"
      ]
    },
    {
      "cell_type": "code",
      "execution_count": null,
      "metadata": {
        "id": "GCavDPmA1UE-"
      },
      "outputs": [],
      "source": [
        "df = pd.DataFrame(np.random.randn(1000, 4), index=ts.index,\n",
        "                  columns=['A', 'B', 'C', 'D'])\n",
        "df.head()"
      ]
    },
    {
      "cell_type": "code",
      "execution_count": null,
      "metadata": {
        "id": "ryOLfL_h1UE-"
      },
      "outputs": [],
      "source": [
        "df = df.cumsum()\n",
        "df.head()"
      ]
    },
    {
      "cell_type": "code",
      "execution_count": null,
      "metadata": {
        "id": "MsW6sqZD1UE_"
      },
      "outputs": [],
      "source": [
        "df.plot(legend='best');"
      ]
    },
    {
      "cell_type": "markdown",
      "metadata": {
        "id": "nRSQmRr61UE_"
      },
      "source": [
        "## Получение и записаь данных"
      ]
    },
    {
      "cell_type": "markdown",
      "metadata": {
        "id": "VGaWe95d1UE_"
      },
      "source": [
        "### CSV"
      ]
    },
    {
      "cell_type": "markdown",
      "metadata": {
        "id": "GDk5_7cz1UFA"
      },
      "source": [
        "см. [про запись в csv файлы](https://pandas.pydata.org/pandas-docs/stable/user_guide/io.html#io-store-in-csv)"
      ]
    },
    {
      "cell_type": "code",
      "execution_count": null,
      "metadata": {
        "id": "RQFi64Q71UFA"
      },
      "outputs": [],
      "source": [
        "df.to_csv('foo.csv')"
      ]
    },
    {
      "cell_type": "markdown",
      "metadata": {
        "id": "uhinS_6v1UFA"
      },
      "source": [
        "см. [про чтенеи csv файлов](https://pandas.pydata.org/pandas-docs/stable/user_guide/io.html#io-read-csv-table)"
      ]
    },
    {
      "cell_type": "code",
      "execution_count": null,
      "metadata": {
        "id": "67SKh5kp1UFA"
      },
      "outputs": [],
      "source": [
        "pd.read_csv('foo.csv')"
      ]
    },
    {
      "cell_type": "markdown",
      "metadata": {
        "id": "ao8t9WFL1UFA"
      },
      "source": [
        "### HDF5"
      ]
    },
    {
      "cell_type": "markdown",
      "metadata": {
        "id": "bwU8Z6iU1UFB"
      },
      "source": [
        "см. про чтение и запись в [`HDFStores`](https://pandas.pydata.org/pandas-docs/stable/user_guide/io.html#io-hdf5)"
      ]
    },
    {
      "cell_type": "markdown",
      "metadata": {
        "id": "OqlXbJhI1UFB"
      },
      "source": [
        "Запись в `HDF5` хранилище:"
      ]
    },
    {
      "cell_type": "code",
      "execution_count": null,
      "metadata": {
        "id": "C4v6RZP11UFB"
      },
      "outputs": [],
      "source": [
        "df.to_hdf('foo.h5', 'df')"
      ]
    },
    {
      "cell_type": "markdown",
      "metadata": {
        "id": "o3HdYZWT1UFB"
      },
      "source": [
        "Чтение из `HDF5` хранилища:"
      ]
    },
    {
      "cell_type": "code",
      "execution_count": null,
      "metadata": {
        "id": "f13ajYPU1UFC"
      },
      "outputs": [],
      "source": [
        "pd.read_hdf('foo.h5', 'df')"
      ]
    },
    {
      "cell_type": "markdown",
      "metadata": {
        "id": "qR-iXgIQ1UFC"
      },
      "source": [
        "### Excel"
      ]
    },
    {
      "cell_type": "markdown",
      "metadata": {
        "id": "mfChEReE1UFC"
      },
      "source": [
        "см. [про чтение и запись в MS Excel](https://pandas.pydata.org/pandas-docs/stable/user_guide/io.html#io-excel)"
      ]
    },
    {
      "cell_type": "markdown",
      "metadata": {
        "id": "YkdrAYce1UFD"
      },
      "source": [
        "Запись в excel файл:"
      ]
    },
    {
      "cell_type": "code",
      "execution_count": null,
      "metadata": {
        "id": "MmlmMXpA1UFD"
      },
      "outputs": [],
      "source": [
        "df.to_excel('foo.xlsx', sheet_name='Sheet1')"
      ]
    },
    {
      "cell_type": "markdown",
      "metadata": {
        "id": "R2Z6IgsB1UFE"
      },
      "source": [
        "Чтение из excel файла:"
      ]
    },
    {
      "cell_type": "code",
      "execution_count": null,
      "metadata": {
        "id": "MQBpJ01b1UFE"
      },
      "outputs": [],
      "source": [
        "pd.read_excel('foo.xlsx', 'Sheet1', index_col=None, na_values=['NA'])"
      ]
    },
    {
      "cell_type": "markdown",
      "metadata": {
        "id": "eIDdwwJd1UFE"
      },
      "source": [
        "## Подсказки (Gotchas)"
      ]
    },
    {
      "cell_type": "markdown",
      "metadata": {
        "id": "iRSQc1X_1UFF"
      },
      "source": [
        "Если пытаетесь выполнить операцию, то можете увидеть исключение, например:"
      ]
    },
    {
      "cell_type": "code",
      "execution_count": null,
      "metadata": {
        "id": "_y16M3UJ1UFF"
      },
      "outputs": [],
      "source": [
        "if pd.Series([False, True, False]):\n",
        "    print(\"I was true\")"
      ]
    },
    {
      "cell_type": "markdown",
      "metadata": {
        "id": "vIUHyGYR1UFG"
      },
      "source": [
        "Для объяснения см. [\"Сравнения\"](https://pandas.pydata.org/pandas-docs/stable/user_guide/basics.html#basics-compare).\n",
        "\n",
        "См. также [\"Подсказки\"](https://pandas.pydata.org/pandas-docs/stable/user_guide/gotchas.html#gotchas)."
      ]
    },
    {
      "cell_type": "markdown",
      "metadata": {
        "id": "K-dUg24U1UFH"
      },
      "source": [
        "# Дополнительно:\n",
        "    \n",
        "- Видео от автора pandas: [Wes McKinney: pandas in 10 minutes](https://youtu.be/_T8LGqJtuGc)\n",
        "- [Оригинал статьи](https://pandas.pydata.org/pandas-docs/stable/user_guide/10min.html)"
      ]
    },
    {
      "cell_type": "markdown",
      "metadata": {
        "id": "MePIg0dZ1UFH"
      },
      "source": [
        "<a href=\"https://t.me/init_python\"><img src=\"https://dfedorov.spb.ru/pandas/logo-telegram.png\" width=\"35\" height=\"35\" alt=\"telegram\" align=\"left\"></a>"
      ]
    },
    {
      "cell_type": "code",
      "execution_count": null,
      "metadata": {
        "id": "IlAzD00u1UFH"
      },
      "outputs": [],
      "source": []
    }
  ],
  "metadata": {
    "kernelspec": {
      "display_name": "Python 3",
      "language": "python",
      "name": "python3"
    },
    "language_info": {
      "codemirror_mode": {
        "name": "ipython",
        "version": 3
      },
      "file_extension": ".py",
      "mimetype": "text/x-python",
      "name": "python",
      "nbconvert_exporter": "python",
      "pygments_lexer": "ipython3",
      "version": "3.8.3"
    },
    "colab": {
      "provenance": [],
      "include_colab_link": true
    }
  },
  "nbformat": 4,
  "nbformat_minor": 0
}